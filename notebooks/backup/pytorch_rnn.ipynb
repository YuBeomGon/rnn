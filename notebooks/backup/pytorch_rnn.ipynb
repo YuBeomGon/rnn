{
 "cells": [
  {
   "cell_type": "code",
   "execution_count": 2,
   "id": "b8816901-b324-4e61-9d44-3f832210d8e0",
   "metadata": {},
   "outputs": [],
   "source": [
    "# https://pytorch.org/tutorials/intermediate/char_rnn_classification_tutorial.html\n",
    "# https://jaketae.github.io/study/pytorch-rnn/"
   ]
  },
  {
   "cell_type": "code",
   "execution_count": 3,
   "id": "914f03ac-2a6c-48d6-a061-892535d93b40",
   "metadata": {},
   "outputs": [
    {
     "name": "stdout",
     "output_type": "stream",
     "text": [
      "['data/names/English.txt', 'data/names/Spanish.txt', 'data/names/Arabic.txt', 'data/names/Russian.txt', 'data/names/Vietnamese.txt', 'data/names/Korean.txt', 'data/names/French.txt', 'data/names/Portuguese.txt', 'data/names/Italian.txt', 'data/names/Polish.txt', 'data/names/Greek.txt', 'data/names/Irish.txt', 'data/names/Japanese.txt', 'data/names/Chinese.txt', 'data/names/Scottish.txt', 'data/names/German.txt', 'data/names/Dutch.txt', 'data/names/Czech.txt']\n",
      "Slusarski\n"
     ]
    }
   ],
   "source": [
    "from __future__ import unicode_literals, print_function, division\n",
    "from io import open\n",
    "import glob\n",
    "import os\n",
    "\n",
    "def findFiles(path): return glob.glob(path)\n",
    "\n",
    "print(findFiles('data/names/*.txt'))\n",
    "\n",
    "import unicodedata\n",
    "import string\n",
    "\n",
    "all_letters = string.ascii_letters + \" .,;'\"\n",
    "n_letters = len(all_letters)\n",
    "\n",
    "# Turn a Unicode string to plain ASCII, thanks to https://stackoverflow.com/a/518232/2809427\n",
    "def unicodeToAscii(s):\n",
    "    return ''.join(\n",
    "        c for c in unicodedata.normalize('NFD', s)\n",
    "        if unicodedata.category(c) != 'Mn'\n",
    "        and c in all_letters\n",
    "    )\n",
    "\n",
    "print(unicodeToAscii('Ślusàrski'))\n",
    "\n",
    "# Build the category_lines dictionary, a list of names per language\n",
    "category_lines = {}\n",
    "all_categories = []\n",
    "\n",
    "# Read a file and split into lines\n",
    "def readLines(filename):\n",
    "    lines = open(filename, encoding='utf-8').read().strip().split('\\n')\n",
    "    return [unicodeToAscii(line) for line in lines]\n",
    "\n",
    "for filename in findFiles('data/names/*.txt'):\n",
    "    category = os.path.splitext(os.path.basename(filename))[0]\n",
    "    all_categories.append(category)\n",
    "    lines = readLines(filename)\n",
    "    category_lines[category] = lines\n",
    "\n",
    "n_categories = len(all_categories)"
   ]
  },
  {
   "cell_type": "code",
   "execution_count": 6,
   "id": "f51085c1-bad3-4a7f-922b-c4e17198189b",
   "metadata": {},
   "outputs": [
    {
     "name": "stdout",
     "output_type": "stream",
     "text": [
      "['Abandonato', 'Abatangelo', 'Abatantuono', 'Abate', 'Abategiovanni']\n"
     ]
    }
   ],
   "source": [
    "print(category_lines['Italian'][:5])"
   ]
  },
  {
   "cell_type": "code",
   "execution_count": 8,
   "id": "e9e5b038-60b9-400d-85fd-357a448be98b",
   "metadata": {},
   "outputs": [
    {
     "name": "stdout",
     "output_type": "stream",
     "text": [
      "tensor([[0., 0., 0., 0., 0., 0., 0., 0., 0., 0., 0., 0., 0., 0., 0., 0., 0., 0.,\n",
      "         0., 0., 0., 0., 0., 0., 0., 0., 0., 0., 0., 0., 0., 0., 0., 0., 0., 1.,\n",
      "         0., 0., 0., 0., 0., 0., 0., 0., 0., 0., 0., 0., 0., 0., 0., 0., 0., 0.,\n",
      "         0., 0., 0.]])\n",
      "torch.Size([5, 1, 57])\n"
     ]
    }
   ],
   "source": [
    "import torch\n",
    "\n",
    "# Find letter index from all_letters, e.g. \"a\" = 0\n",
    "def letterToIndex(letter):\n",
    "    return all_letters.find(letter)\n",
    "\n",
    "# Just for demonstration, turn a letter into a <1 x n_letters> Tensor\n",
    "def letterToTensor(letter):\n",
    "    tensor = torch.zeros(1, n_letters)\n",
    "    tensor[0][letterToIndex(letter)] = 1\n",
    "    return tensor\n",
    "\n",
    "# Turn a line into a <line_length x 1 x n_letters>,\n",
    "# or an array of one-hot letter vectors\n",
    "def lineToTensor(line):\n",
    "    tensor = torch.zeros(len(line), 1, n_letters)\n",
    "    for li, letter in enumerate(line):\n",
    "        tensor[li][0][letterToIndex(letter)] = 1\n",
    "    return tensor\n",
    "\n",
    "print(letterToTensor('J'))\n",
    "\n",
    "print(lineToTensor('Jones').size())"
   ]
  },
  {
   "cell_type": "code",
   "execution_count": 9,
   "id": "985bdbb6-bde2-40a0-ac3f-899f0c3ea1db",
   "metadata": {},
   "outputs": [],
   "source": [
    "import torch.nn as nn\n",
    "\n",
    "class RNN(nn.Module):\n",
    "    def __init__(self, input_size, hidden_size, output_size):\n",
    "        super(RNN, self).__init__()\n",
    "\n",
    "        self.hidden_size = hidden_size\n",
    "\n",
    "        self.i2h = nn.Linear(input_size + hidden_size, hidden_size)\n",
    "        self.i2o = nn.Linear(input_size + hidden_size, output_size)\n",
    "        self.softmax = nn.LogSoftmax(dim=1)\n",
    "\n",
    "    def forward(self, input, hidden):\n",
    "        combined = torch.cat((input, hidden), 1)\n",
    "        hidden = self.i2h(combined)\n",
    "        output = self.i2o(combined)\n",
    "        output = self.softmax(output)\n",
    "        return output, hidden\n",
    "\n",
    "    def initHidden(self):\n",
    "        return torch.zeros(1, self.hidden_size)\n",
    "\n",
    "n_hidden = 128\n",
    "rnn = RNN(n_letters, n_hidden, n_categories)"
   ]
  },
  {
   "cell_type": "code",
   "execution_count": 19,
   "id": "f4c0c185-bfdf-4c1d-aa8a-0e98461ebec8",
   "metadata": {},
   "outputs": [],
   "source": [
    "input = letterToTensor('A')\n",
    "hidden = torch.zeros(1, n_hidden)\n",
    "\n",
    "output, next_hidden = rnn(input, hidden)"
   ]
  },
  {
   "cell_type": "code",
   "execution_count": 20,
   "id": "c1841ef8-2903-4db5-a829-83f43d219df0",
   "metadata": {},
   "outputs": [
    {
     "data": {
      "text/plain": [
       "tensor([[-2.8994, -2.9923, -2.9232, -2.9015, -2.9991, -2.7792, -2.8277, -2.8181,\n",
       "         -2.9711, -2.8890, -2.8619, -2.9137, -2.8858, -2.8111, -3.0026, -2.8966,\n",
       "         -2.9086, -2.7872]], grad_fn=<LogSoftmaxBackward0>)"
      ]
     },
     "execution_count": 20,
     "metadata": {},
     "output_type": "execute_result"
    }
   ],
   "source": [
    "output"
   ]
  },
  {
   "cell_type": "code",
   "execution_count": 21,
   "id": "6735659c-7ef3-45fd-8a96-207fb2285bad",
   "metadata": {},
   "outputs": [
    {
     "name": "stdout",
     "output_type": "stream",
     "text": [
      "tensor([[-2.8994, -2.9923, -2.9232, -2.9015, -2.9991, -2.7792, -2.8277, -2.8181,\n",
      "         -2.9711, -2.8890, -2.8619, -2.9137, -2.8858, -2.8111, -3.0026, -2.8966,\n",
      "         -2.9086, -2.7872]], grad_fn=<LogSoftmaxBackward0>)\n"
     ]
    }
   ],
   "source": [
    "input = lineToTensor('Albert')\n",
    "hidden = torch.zeros(1, n_hidden)\n",
    "\n",
    "output, next_hidden = rnn(input[0], hidden)\n",
    "print(output)"
   ]
  },
  {
   "cell_type": "code",
   "execution_count": 31,
   "id": "6bb6bd30-f87b-4084-bb31-9bf1aaade4ae",
   "metadata": {},
   "outputs": [
    {
     "name": "stdout",
     "output_type": "stream",
     "text": [
      "('Dutch', 16)\n"
     ]
    }
   ],
   "source": [
    "def categoryFromOutput(output):\n",
    "    top_n, top_i = output.topk(1)\n",
    "    # print(top_n, top_i)\n",
    "    category_i = top_i[0].item()\n",
    "    return all_categories[category_i], category_i\n",
    "\n",
    "print(categoryFromOutput(output))"
   ]
  },
  {
   "cell_type": "code",
   "execution_count": 24,
   "id": "12450878-2dec-451a-9072-2fb2fe6f7f5f",
   "metadata": {},
   "outputs": [
    {
     "name": "stdout",
     "output_type": "stream",
     "text": [
      "category = Vietnamese / line = Truong\n",
      "category = Korean / line = So\n",
      "category = Italian / line = Sansone\n",
      "category = Dutch / line = Buiren\n",
      "category = Polish / line = Winogrodzki\n",
      "category = Chinese / line = Zang\n",
      "category = French / line = Duval\n",
      "category = French / line = Macon\n",
      "category = Portuguese / line = Moreno\n",
      "category = Japanese / line = Takizawa\n"
     ]
    }
   ],
   "source": [
    "import random\n",
    "\n",
    "def randomChoice(l):\n",
    "    return l[random.randint(0, len(l) - 1)]\n",
    "\n",
    "def randomTrainingExample():\n",
    "    category = randomChoice(all_categories)\n",
    "    line = randomChoice(category_lines[category])\n",
    "    category_tensor = torch.tensor([all_categories.index(category)], dtype=torch.long)\n",
    "    line_tensor = lineToTensor(line)\n",
    "    return category, line, category_tensor, line_tensor\n",
    "\n",
    "for i in range(10):\n",
    "    category, line, category_tensor, line_tensor = randomTrainingExample()\n",
    "    print('category =', category, '/ line =', line)"
   ]
  },
  {
   "cell_type": "code",
   "execution_count": 25,
   "id": "6e799d1d-a243-4370-a3c4-376084f890c7",
   "metadata": {},
   "outputs": [],
   "source": [
    "criterion = nn.NLLLoss()"
   ]
  },
  {
   "cell_type": "code",
   "execution_count": 26,
   "id": "353dad6e-f5b6-4687-8173-cdb1da2501af",
   "metadata": {},
   "outputs": [],
   "source": [
    "learning_rate = 0.005 # If you set this too high, it might explode. If too low, it might not learn\n",
    "\n",
    "def train(category_tensor, line_tensor):\n",
    "    hidden = rnn.initHidden()\n",
    "\n",
    "    rnn.zero_grad()\n",
    "\n",
    "    for i in range(line_tensor.size()[0]):\n",
    "        output, hidden = rnn(line_tensor[i], hidden)\n",
    "\n",
    "    loss = criterion(output, category_tensor)\n",
    "    loss.backward()\n",
    "\n",
    "    # Add parameters' gradients to their values, multiplied by learning rate\n",
    "    for p in rnn.parameters():\n",
    "        p.data.add_(p.grad.data, alpha=-learning_rate)\n",
    "\n",
    "    return output, loss.item()"
   ]
  },
  {
   "cell_type": "code",
   "execution_count": 27,
   "id": "6f0f363f-d1b0-455f-b8cf-533617d80f9a",
   "metadata": {},
   "outputs": [
    {
     "name": "stdout",
     "output_type": "stream",
     "text": [
      "tensor([[-2.3242]], grad_fn=<TopkBackward0>) tensor([[14]])\n",
      "5000 5% (0m 17s) 2.8191 Haddad / Scottish ✗ (Arabic)\n",
      "tensor([[-1.6909]], grad_fn=<TopkBackward0>) tensor([[11]])\n",
      "10000 10% (0m 38s) 1.6909 Ruadhan / Irish ✓\n",
      "tensor([[-1.4397]], grad_fn=<TopkBackward0>) tensor([[2]])\n",
      "15000 15% (0m 56s) 1.4397 Ganem / Arabic ✓\n",
      "tensor([[-1.9306]], grad_fn=<TopkBackward0>) tensor([[3]])\n",
      "20000 20% (1m 12s) 1.9306 Vyazmin / Russian ✓\n",
      "tensor([[-0.6712]], grad_fn=<TopkBackward0>) tensor([[4]])\n",
      "25000 25% (1m 27s) 0.6712 Huynh / Vietnamese ✓\n",
      "tensor([[-1.7992]], grad_fn=<TopkBackward0>) tensor([[14]])\n",
      "30000 30% (1m 44s) 2.0602 Wray / Scottish ✗ (English)\n",
      "tensor([[-0.8143]], grad_fn=<TopkBackward0>) tensor([[5]])\n",
      "35000 35% (2m 0s) 0.8143 Kang / Korean ✓\n",
      "tensor([[-1.7280]], grad_fn=<TopkBackward0>) tensor([[15]])\n",
      "40000 40% (2m 16s) 3.1844 Wright / German ✗ (Scottish)\n",
      "tensor([[-1.3084]], grad_fn=<TopkBackward0>) tensor([[14]])\n",
      "45000 45% (2m 39s) 1.8357 Bitar / Scottish ✗ (Arabic)\n",
      "tensor([[-0.3127]], grad_fn=<TopkBackward0>) tensor([[9]])\n",
      "50000 50% (2m 58s) 0.3127 Kosmatka / Polish ✓\n",
      "tensor([[-1.1278]], grad_fn=<TopkBackward0>) tensor([[2]])\n",
      "55000 55% (3m 13s) 2.6377 Harman / Arabic ✗ (German)\n",
      "tensor([[-1.2029]], grad_fn=<TopkBackward0>) tensor([[6]])\n",
      "60000 60% (3m 29s) 2.0277 Barrett / French ✗ (English)\n",
      "tensor([[-1.2267]], grad_fn=<TopkBackward0>) tensor([[0]])\n",
      "65000 65% (3m 45s) 2.8100 Wallace / English ✗ (Scottish)\n",
      "tensor([[-0.8840]], grad_fn=<TopkBackward0>) tensor([[3]])\n",
      "70000 70% (4m 3s) 0.8840 Ryjkin / Russian ✓\n",
      "tensor([[-0.6454]], grad_fn=<TopkBackward0>) tensor([[4]])\n",
      "75000 75% (4m 21s) 1.4081 Dai / Vietnamese ✗ (Chinese)\n",
      "tensor([[-0.8411]], grad_fn=<TopkBackward0>) tensor([[3]])\n",
      "80000 80% (4m 37s) 0.8411 Avksentievsky / Russian ✓\n",
      "tensor([[-1.2308]], grad_fn=<TopkBackward0>) tensor([[9]])\n",
      "85000 85% (4m 54s) 1.2308 Zawisza / Polish ✓\n",
      "tensor([[-0.7941]], grad_fn=<TopkBackward0>) tensor([[5]])\n",
      "90000 90% (5m 10s) 0.7941 Koo / Korean ✓\n",
      "tensor([[-1.3986]], grad_fn=<TopkBackward0>) tensor([[16]])\n",
      "95000 95% (5m 26s) 2.4809 Horn / Dutch ✗ (German)\n",
      "tensor([[-0.4807]], grad_fn=<TopkBackward0>) tensor([[15]])\n",
      "100000 100% (5m 41s) 2.2140 Meisner / German ✗ (Dutch)\n"
     ]
    }
   ],
   "source": [
    "import time\n",
    "import math\n",
    "\n",
    "n_iters = 100000\n",
    "print_every = 5000\n",
    "plot_every = 1000\n",
    "\n",
    "\n",
    "\n",
    "# Keep track of losses for plotting\n",
    "current_loss = 0\n",
    "all_losses = []\n",
    "\n",
    "def timeSince(since):\n",
    "    now = time.time()\n",
    "    s = now - since\n",
    "    m = math.floor(s / 60)\n",
    "    s -= m * 60\n",
    "    return '%dm %ds' % (m, s)\n",
    "\n",
    "start = time.time()\n",
    "\n",
    "for iter in range(1, n_iters + 1):\n",
    "    category, line, category_tensor, line_tensor = randomTrainingExample()\n",
    "    output, loss = train(category_tensor, line_tensor)\n",
    "    current_loss += loss\n",
    "\n",
    "    # Print iter number, loss, name and guess\n",
    "    if iter % print_every == 0:\n",
    "        guess, guess_i = categoryFromOutput(output)\n",
    "        correct = '✓' if guess == category else '✗ (%s)' % category\n",
    "        print('%d %d%% (%s) %.4f %s / %s %s' % (iter, iter / n_iters * 100, timeSince(start), loss, line, guess, correct))\n",
    "\n",
    "    # Add current loss avg to list of losses\n",
    "    if iter % plot_every == 0:\n",
    "        all_losses.append(current_loss / plot_every)\n",
    "        current_loss = 0"
   ]
  },
  {
   "cell_type": "code",
   "execution_count": 28,
   "id": "590957c6-59e6-4381-92ce-b38a4eba716c",
   "metadata": {},
   "outputs": [
    {
     "data": {
      "text/plain": [
       "[<matplotlib.lines.Line2D at 0x7fc154922ad0>]"
      ]
     },
     "execution_count": 28,
     "metadata": {},
     "output_type": "execute_result"
    },
    {
     "data": {
      "image/png": "[encoded data removed]",
      "text/plain": [
       "<Figure size 432x288 with 1 Axes>"
      ]
     },
     "metadata": {
      "needs_background": "light"
     },
     "output_type": "display_data"
    }
   ],
   "source": [
    "import matplotlib.pyplot as plt\n",
    "import matplotlib.ticker as ticker\n",
    "\n",
    "plt.figure()\n",
    "plt.plot(all_losses)"
   ]
  },
  {
   "cell_type": "code",
   "execution_count": 32,
   "id": "e6e5b2bf-0e8f-4a46-9689-1046a607d151",
   "metadata": {},
   "outputs": [
    {
     "name": "stderr",
     "output_type": "stream",
     "text": [
      "/home/beomgon/.local/lib/python3.7/site-packages/ipykernel_launcher.py:33: UserWarning: FixedFormatter should only be used together with FixedLocator\n",
      "/home/beomgon/.local/lib/python3.7/site-packages/ipykernel_launcher.py:34: UserWarning: FixedFormatter should only be used together with FixedLocator\n"
     ]
    },
    {
     "data": {
      "image/png": "[encoded data removed]",
      "text/plain": [
       "<Figure size 432x288 with 2 Axes>"
      ]
     },
     "metadata": {
      "needs_background": "light"
     },
     "output_type": "display_data"
    }
   ],
   "source": [
    "# Keep track of correct guesses in a confusion matrix\n",
    "confusion = torch.zeros(n_categories, n_categories)\n",
    "n_confusion = 10000\n",
    "\n",
    "# Just return an output given a line\n",
    "def evaluate(line_tensor):\n",
    "    hidden = rnn.initHidden()\n",
    "\n",
    "    for i in range(line_tensor.size()[0]):\n",
    "        output, hidden = rnn(line_tensor[i], hidden)\n",
    "\n",
    "    return output\n",
    "\n",
    "# Go through a bunch of examples and record which are correctly guessed\n",
    "for i in range(n_confusion):\n",
    "    category, line, category_tensor, line_tensor = randomTrainingExample()\n",
    "    output = evaluate(line_tensor)\n",
    "    guess, guess_i = categoryFromOutput(output)\n",
    "    category_i = all_categories.index(category)\n",
    "    confusion[category_i][guess_i] += 1\n",
    "\n",
    "# Normalize by dividing every row by its sum\n",
    "for i in range(n_categories):\n",
    "    confusion[i] = confusion[i] / confusion[i].sum()\n",
    "\n",
    "# Set up plot\n",
    "fig = plt.figure()\n",
    "ax = fig.add_subplot(111)\n",
    "cax = ax.matshow(confusion.numpy())\n",
    "fig.colorbar(cax)\n",
    "\n",
    "# Set up axes\n",
    "ax.set_xticklabels([''] + all_categories, rotation=90)\n",
    "ax.set_yticklabels([''] + all_categories)\n",
    "\n",
    "# Force label at every tick\n",
    "ax.xaxis.set_major_locator(ticker.MultipleLocator(1))\n",
    "ax.yaxis.set_major_locator(ticker.MultipleLocator(1))\n",
    "\n",
    "# sphinx_gallery_thumbnail_number = 2\n",
    "plt.show()"
   ]
  },
  {
   "cell_type": "code",
   "execution_count": 33,
   "id": "6f0d73a8-75a0-4f6e-a72d-34f77d28ebfa",
   "metadata": {},
   "outputs": [
    {
     "name": "stdout",
     "output_type": "stream",
     "text": [
      "\n",
      "> Dovesky\n",
      "(-0.43) Russian\n",
      "(-1.31) Czech\n",
      "(-3.68) Polish\n",
      "\n",
      "> Jackson\n",
      "(-0.33) Scottish\n",
      "(-2.10) Russian\n",
      "(-2.34) English\n",
      "\n",
      "> Satoshi\n",
      "(-0.73) Japanese\n",
      "(-1.69) Italian\n",
      "(-1.77) Arabic\n"
     ]
    }
   ],
   "source": [
    "def predict(input_line, n_predictions=3):\n",
    "    print('\\n> %s' % input_line)\n",
    "    with torch.no_grad():\n",
    "        output = evaluate(lineToTensor(input_line))\n",
    "\n",
    "        # Get top N categories\n",
    "        topv, topi = output.topk(n_predictions, 1, True)\n",
    "        predictions = []\n",
    "\n",
    "        for i in range(n_predictions):\n",
    "            value = topv[0][i].item()\n",
    "            category_index = topi[0][i].item()\n",
    "            print('(%.2f) %s' % (value, all_categories[category_index]))\n",
    "            predictions.append([value, all_categories[category_index]])\n",
    "\n",
    "predict('Dovesky')\n",
    "predict('Jackson')\n",
    "predict('Satoshi')"
   ]
  },
  {
   "cell_type": "code",
   "execution_count": null,
   "id": "6b1ea438-cab6-49de-ac4b-b0e223320df1",
   "metadata": {},
   "outputs": [],
   "source": []
  }
 ],
 "metadata": {
  "kernelspec": {
   "display_name": "pytorch",
   "language": "python",
   "name": "pytorch"
  },
  "language_info": {
   "codemirror_mode": {
    "name": "ipython",
    "version": 3
   },
   "file_extension": ".py",
   "mimetype": "text/x-python",
   "name": "python",
   "nbconvert_exporter": "python",
   "pygments_lexer": "ipython3",
   "version": "3.7.9"
  }
 },
 "nbformat": 4,
 "nbformat_minor": 5
}
