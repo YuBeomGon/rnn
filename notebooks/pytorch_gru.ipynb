{
 "cells": [
  {
   "cell_type": "code",
   "execution_count": 1,
   "id": "b8816901-b324-4e61-9d44-3f832210d8e0",
   "metadata": {},
   "outputs": [],
   "source": [
    "# https://pytorch.org/tutorials/intermediate/char_rnn_classification_tutorial.html\n",
    "# https://jaketae.github.io/study/pytorch-rnn/"
   ]
  },
  {
   "cell_type": "code",
   "execution_count": 9,
   "id": "6b1ea438-cab6-49de-ac4b-b0e223320df1",
   "metadata": {},
   "outputs": [
    {
     "name": "stdout",
     "output_type": "stream",
     "text": [
      "cpu\n"
     ]
    }
   ],
   "source": [
    "import os\n",
    "import random\n",
    "from string import ascii_letters\n",
    "\n",
    "import torch\n",
    "from torch import nn\n",
    "import torch.nn.functional as F\n",
    "from unidecode import unidecode\n",
    "import sys\n",
    "sys.path.append('../')\n",
    "\n",
    "import matplotlib.pyplot as plt\n",
    "%matplotlib inline\n",
    "\n",
    "from dataset import get_tensor, get_train_test_data\n",
    "from model import GRUModel\n",
    "from train import train, evaluate\n",
    "from config import *\n",
    "\n",
    "_ = torch.manual_seed(42)\n",
    "#device = torch.device(\"cuda\" if torch.cuda.is_available() else \"cpu\")\n",
    "device = torch.device('cpu')\n",
    "print(device)"
   ]
  },
  {
   "cell_type": "code",
   "execution_count": 3,
   "id": "7f8789d5-42c5-44f5-a6dc-09fee70f7764",
   "metadata": {},
   "outputs": [
    {
     "name": "stdout",
     "output_type": "stream",
     "text": [
      "num_lang, 18 num_letters 59\n",
      "Train: 18063\n",
      "Test: 2007\n"
     ]
    }
   ],
   "source": [
    "data_dir = \"../data/names\"\n",
    "tensor_names, target_langs, num_langs, num_letters = get_tensor(data_dir)\n",
    "train_dataset, test_dataset = get_train_test_data(tensor_names, target_langs)"
   ]
  },
  {
   "cell_type": "code",
   "execution_count": 4,
   "id": "3f1ff4c0-d6c5-46af-b165-ac63fe2f4c07",
   "metadata": {},
   "outputs": [
    {
     "name": "stdout",
     "output_type": "stream",
     "text": [
      "torch.Size([10, 1, 59])\n"
     ]
    }
   ],
   "source": [
    "names, labels = next(iter(train_dataset))\n",
    "print(names.shape)\n",
    "                     "
   ]
  },
  {
   "cell_type": "code",
   "execution_count": 5,
   "id": "9f8616df-ecde-489f-83a9-ca54d712c41d",
   "metadata": {},
   "outputs": [
    {
     "name": "stderr",
     "output_type": "stream",
     "text": [
      "../model.py:21: UserWarning: nn.init.normal is now deprecated in favor of nn.init.normal_.\n",
      "  torch.nn.init.normal(self.fc.weight, mean=0., std=0.05)\n"
     ]
    }
   ],
   "source": [
    "model = GRUModel(num_layers=num_layers, input_size=num_letters, hidden_size=hidden_size, num_classes=num_langs).to(device)\n",
    "optimizer = torch.optim.Adam(model.parameters(), lr=learning_rate)\n",
    "criterion = nn.CrossEntropyLoss().to(device)"
   ]
  },
  {
   "cell_type": "code",
   "execution_count": 6,
   "id": "b4d81240-5b39-4792-82c7-d11d94cc745d",
   "metadata": {},
   "outputs": [
    {
     "name": "stdout",
     "output_type": "stream",
     "text": [
      "Epoch [1/4], Step [3000/18063], Loss: 1.4211\n",
      "Accuracy: 68.1116%\n",
      "Epoch [1/4], Step [6000/18063], Loss: 1.0353\n",
      "Accuracy: 69.7559%\n",
      "Epoch [1/4], Step [9000/18063], Loss: 0.9412\n",
      "Accuracy: 72.3966%\n",
      "Epoch [1/4], Step [12000/18063], Loss: 0.8397\n",
      "Accuracy: 75.2367%\n",
      "Epoch [1/4], Step [15000/18063], Loss: 0.8004\n",
      "Accuracy: 75.3363%\n",
      "Epoch [1/4], Step [18000/18063], Loss: 0.7736\n",
      "Accuracy: 77.3293%\n",
      "Epoch [2/4], Step [3000/18063], Loss: 0.6821\n",
      "Accuracy: 77.6283%\n",
      "Epoch [2/4], Step [6000/18063], Loss: 0.6389\n",
      "Accuracy: 78.4255%\n",
      "Epoch [2/4], Step [9000/18063], Loss: 0.6488\n",
      "Accuracy: 79.6712%\n",
      "Epoch [2/4], Step [12000/18063], Loss: 0.6025\n",
      "Accuracy: 80.8171%\n",
      "Epoch [2/4], Step [15000/18063], Loss: 0.6130\n",
      "Accuracy: 81.3652%\n",
      "Epoch [2/4], Step [18000/18063], Loss: 0.6174\n",
      "Accuracy: 81.0164%\n",
      "Epoch [3/4], Step [3000/18063], Loss: 0.5254\n",
      "Accuracy: 81.3652%\n",
      "Epoch [3/4], Step [6000/18063], Loss: 0.5039\n",
      "Accuracy: 81.7140%\n",
      "Epoch [3/4], Step [9000/18063], Loss: 0.4956\n",
      "Accuracy: 81.5645%\n",
      "Epoch [3/4], Step [12000/18063], Loss: 0.4917\n",
      "Accuracy: 81.6143%\n",
      "Epoch [3/4], Step [15000/18063], Loss: 0.5006\n",
      "Accuracy: 82.5610%\n",
      "Epoch [3/4], Step [18000/18063], Loss: 0.5282\n",
      "Accuracy: 82.8600%\n",
      "Epoch [4/4], Step [3000/18063], Loss: 0.4147\n",
      "Accuracy: 82.6607%\n",
      "Epoch [4/4], Step [6000/18063], Loss: 0.3964\n",
      "Accuracy: 82.9596%\n",
      "Epoch [4/4], Step [9000/18063], Loss: 0.4477\n",
      "Accuracy: 83.0593%\n",
      "Epoch [4/4], Step [12000/18063], Loss: 0.4454\n",
      "Accuracy: 82.7603%\n",
      "Epoch [4/4], Step [15000/18063], Loss: 0.4211\n",
      "Accuracy: 82.7105%\n",
      "Epoch [4/4], Step [18000/18063], Loss: 0.4404\n",
      "Accuracy: 83.1091%\n"
     ]
    }
   ],
   "source": [
    "acc_list = train(model, device, train_dataset, test_dataset, optimizer, criterion)"
   ]
  },
  {
   "cell_type": "code",
   "execution_count": 7,
   "id": "429691d4-c1ae-42ea-9e14-08e08b0bf1d7",
   "metadata": {},
   "outputs": [
    {
     "name": "stdout",
     "output_type": "stream",
     "text": [
      "Accuracy: 83.1091%\n"
     ]
    },
    {
     "data": {
      "text/plain": [
       "83.10911808669657"
      ]
     },
     "execution_count": 7,
     "metadata": {},
     "output_type": "execute_result"
    }
   ],
   "source": [
    "evaluate(model, device, test_dataset)"
   ]
  },
  {
   "cell_type": "code",
   "execution_count": 10,
   "id": "628db031-b52f-4f69-8cba-31c2620a450a",
   "metadata": {},
   "outputs": [
    {
     "name": "stderr",
     "output_type": "stream",
     "text": [
      "No artists with labels found to put in legend.  Note that artists whose label start with an underscore are ignored when legend() is called with no argument.\n"
     ]
    },
    {
     "data": {
      "text/plain": [
       "[<matplotlib.lines.Line2D at 0x7f9e80f92dd0>]"
      ]
     },
     "execution_count": 10,
     "metadata": {},
     "output_type": "execute_result"
    },
    {
     "data": {
      "image/png": "[encoded data removed]",
      "text/plain": [
       "<Figure size 720x360 with 1 Axes>"
      ]
     },
     "metadata": {
      "needs_background": "light"
     },
     "output_type": "display_data"
    }
   ],
   "source": [
    "plt.figure(figsize=(10, 5))\n",
    "plt.title('RNN accuracy')\n",
    "plt.xlabel('epoch/6')\n",
    "plt.ylabel('acc')\n",
    "plt.legend(loc='best')\n",
    "plt.plot(acc_list, 'k--')"
   ]
  },
  {
   "cell_type": "code",
   "execution_count": null,
   "id": "1410e92a-86ee-4740-92a0-dc2381cffe66",
   "metadata": {},
   "outputs": [],
   "source": []
  }
 ],
 "metadata": {
  "kernelspec": {
   "display_name": "pytorch",
   "language": "python",
   "name": "pytorch"
  },
  "language_info": {
   "codemirror_mode": {
    "name": "ipython",
    "version": 3
   },
   "file_extension": ".py",
   "mimetype": "text/x-python",
   "name": "python",
   "nbconvert_exporter": "python",
   "pygments_lexer": "ipython3",
   "version": "3.7.9"
  }
 },
 "nbformat": 4,
 "nbformat_minor": 5
}
