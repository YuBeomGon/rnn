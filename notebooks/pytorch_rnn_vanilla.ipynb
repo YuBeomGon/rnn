{
 "cells": [
  {
   "cell_type": "code",
   "execution_count": 1,
   "id": "b8816901-b324-4e61-9d44-3f832210d8e0",
   "metadata": {},
   "outputs": [],
   "source": [
    "# https://pytorch.org/tutorials/intermediate/char_rnn_classification_tutorial.html\n",
    "# https://jaketae.github.io/study/pytorch-rnn/"
   ]
  },
  {
   "cell_type": "code",
   "execution_count": 2,
   "id": "6b1ea438-cab6-49de-ac4b-b0e223320df1",
   "metadata": {},
   "outputs": [
    {
     "name": "stdout",
     "output_type": "stream",
     "text": [
      "cpu\n"
     ]
    }
   ],
   "source": [
    "import os\n",
    "import random\n",
    "from string import ascii_letters\n",
    "\n",
    "import torch\n",
    "from torch import nn\n",
    "import torch.nn.functional as F\n",
    "from unidecode import unidecode\n",
    "import sys\n",
    "sys.path.append('../')\n",
    "\n",
    "import matplotlib.pyplot as plt\n",
    "%matplotlib inline\n",
    "\n",
    "from dataset import get_tensor, get_train_test_data\n",
    "from model import GRUModel\n",
    "from train import train, evaluate, train_rnn, evaluate_rnn\n",
    "from config import *\n",
    "\n",
    "_ = torch.manual_seed(42)\n",
    "#device = torch.device(\"cuda\" if torch.cuda.is_available() else \"cpu\")\n",
    "device = torch.device('cpu')\n",
    "print(device)"
   ]
  },
  {
   "cell_type": "code",
   "execution_count": 3,
   "id": "2e4f2b8f-a87a-40e4-9828-99e3c2bfdb5a",
   "metadata": {},
   "outputs": [
    {
     "name": "stdout",
     "output_type": "stream",
     "text": [
      "num_lang, 18 num_letters 59\n",
      "Train: 18063\n",
      "Test: 2007\n"
     ]
    }
   ],
   "source": [
    "data_dir = \"../data/names\"\n",
    "tensor_names, target_langs, num_langs, num_letters = get_tensor(data_dir)\n",
    "train_dataset, test_dataset = get_train_test_data(tensor_names, target_langs)"
   ]
  },
  {
   "cell_type": "code",
   "execution_count": 4,
   "id": "ee3220ff-f8c3-4906-843b-a616c7428b82",
   "metadata": {},
   "outputs": [
    {
     "name": "stdout",
     "output_type": "stream",
     "text": [
      "torch.Size([10, 1, 59])\n"
     ]
    }
   ],
   "source": [
    "names, labels = next(iter(train_dataset))\n",
    "print(names.shape)"
   ]
  },
  {
   "cell_type": "code",
   "execution_count": 5,
   "id": "890e3b6e-6a5a-4521-b5f5-b0f16abf42c6",
   "metadata": {},
   "outputs": [],
   "source": [
    "class RNN(nn.Module):\n",
    "    def __init__(self, input_size, hidden_size, output_size):\n",
    "        super(RNN, self).__init__()\n",
    "        self.hidden_size = hidden_size\n",
    "        self.in2hidden = nn.Linear(input_size + hidden_size, hidden_size)\n",
    "        self.in2output = nn.Linear(input_size + hidden_size, output_size)\n",
    "    \n",
    "    def forward(self, x, hidden_state):\n",
    "        combined = torch.cat((x, hidden_state), 1)\n",
    "        hidden = torch.sigmoid(self.in2hidden(combined))\n",
    "        output = self.in2output(combined)\n",
    "        return output, hidden\n",
    "    \n",
    "    def init_hidden(self):\n",
    "        # return nn.init.kaiming_uniform_(torch.empty(1, self.hidden_size))\n",
    "        return torch.zeros(1, self.hidden_size)"
   ]
  },
  {
   "cell_type": "code",
   "execution_count": 6,
   "id": "ff4eaf14-58b6-443b-9786-bf7072415045",
   "metadata": {},
   "outputs": [],
   "source": [
    "model = RNN(num_letters, hidden_size, num_langs).to(device)\n",
    "optimizer = torch.optim.Adam(model.parameters(), lr=learning_rate)\n",
    "criterion = nn.CrossEntropyLoss().to(device)"
   ]
  },
  {
   "cell_type": "code",
   "execution_count": 7,
   "id": "28bc0d8f-c8e1-48ae-aaac-4490089e4ba2",
   "metadata": {},
   "outputs": [
    {
     "name": "stdout",
     "output_type": "stream",
     "text": [
      "Epoch [1/4], Step [3000/18063], Loss: 1.8427\n",
      "Accuracy: 52.6158%\n",
      "Epoch [1/4], Step [6000/18063], Loss: 1.4596\n",
      "Accuracy: 59.2925%\n",
      "Epoch [1/4], Step [9000/18063], Loss: 1.2435\n",
      "Accuracy: 61.4350%\n",
      "Epoch [1/4], Step [12000/18063], Loss: 1.2317\n",
      "Accuracy: 65.2217%\n",
      "Epoch [1/4], Step [15000/18063], Loss: 1.1663\n",
      "Accuracy: 66.0189%\n",
      "Epoch [1/4], Step [18000/18063], Loss: 1.1744\n",
      "Accuracy: 68.0618%\n",
      "Epoch [2/4], Step [3000/18063], Loss: 1.1080\n",
      "Accuracy: 68.6099%\n",
      "Epoch [2/4], Step [6000/18063], Loss: 1.0622\n",
      "Accuracy: 68.5102%\n",
      "Epoch [2/4], Step [9000/18063], Loss: 1.0662\n",
      "Accuracy: 69.1081%\n",
      "Epoch [2/4], Step [12000/18063], Loss: 1.0277\n",
      "Accuracy: 70.8520%\n",
      "Epoch [2/4], Step [15000/18063], Loss: 1.0708\n",
      "Accuracy: 68.9586%\n",
      "Epoch [2/4], Step [18000/18063], Loss: 1.0019\n",
      "Accuracy: 70.6029%\n",
      "Epoch [3/4], Step [3000/18063], Loss: 0.9552\n",
      "Accuracy: 70.3039%\n",
      "Epoch [3/4], Step [6000/18063], Loss: 1.0059\n",
      "Accuracy: 71.9482%\n",
      "Epoch [3/4], Step [9000/18063], Loss: 0.9411\n",
      "Accuracy: 73.0942%\n",
      "Epoch [3/4], Step [12000/18063], Loss: 0.9932\n",
      "Accuracy: 71.5496%\n",
      "Epoch [3/4], Step [15000/18063], Loss: 0.9588\n",
      "Accuracy: 70.2541%\n",
      "Epoch [3/4], Step [18000/18063], Loss: 0.9981\n",
      "Accuracy: 73.1938%\n",
      "Epoch [4/4], Step [3000/18063], Loss: 0.9491\n",
      "Accuracy: 73.2436%\n",
      "Epoch [4/4], Step [6000/18063], Loss: 0.9066\n",
      "Accuracy: 73.9412%\n",
      "Epoch [4/4], Step [9000/18063], Loss: 0.9300\n",
      "Accuracy: 73.7917%\n",
      "Epoch [4/4], Step [12000/18063], Loss: 0.9210\n",
      "Accuracy: 74.0907%\n",
      "Epoch [4/4], Step [15000/18063], Loss: 0.8810\n",
      "Accuracy: 75.5855%\n",
      "Epoch [4/4], Step [18000/18063], Loss: 0.8995\n",
      "Accuracy: 74.8879%\n"
     ]
    }
   ],
   "source": [
    "acc_list = train_rnn(model, device, train_dataset, test_dataset, optimizer, criterion)"
   ]
  },
  {
   "cell_type": "code",
   "execution_count": 8,
   "id": "254a1f24-aeaa-4d51-a7b4-227a17801338",
   "metadata": {},
   "outputs": [
    {
     "name": "stdout",
     "output_type": "stream",
     "text": [
      "Accuracy: 72.5959%\n"
     ]
    },
    {
     "data": {
      "text/plain": [
       "72.59591429995017"
      ]
     },
     "execution_count": 8,
     "metadata": {},
     "output_type": "execute_result"
    }
   ],
   "source": [
    "evaluate_rnn(model, device, test_dataset)"
   ]
  },
  {
   "cell_type": "code",
   "execution_count": 9,
   "id": "e68109af-8f19-4129-afcd-c496e3dfcacc",
   "metadata": {},
   "outputs": [
    {
     "name": "stderr",
     "output_type": "stream",
     "text": [
      "No artists with labels found to put in legend.  Note that artists whose label start with an underscore are ignored when legend() is called with no argument.\n"
     ]
    },
    {
     "data": {
      "text/plain": [
       "[<matplotlib.lines.Line2D at 0x7f35c0164190>]"
      ]
     },
     "execution_count": 9,
     "metadata": {},
     "output_type": "execute_result"
    },
    {
     "data": {
      "image/png": "[encoded data removed]",
      "text/plain": [
       "<Figure size 720x360 with 1 Axes>"
      ]
     },
     "metadata": {
      "needs_background": "light"
     },
     "output_type": "display_data"
    }
   ],
   "source": [
    "plt.figure(figsize=(10, 5))\n",
    "plt.title('RNN accuracy')\n",
    "plt.xlabel('epoch/6')\n",
    "plt.ylabel('acc')\n",
    "plt.legend(loc='best')\n",
    "plt.plot(acc_list, 'k--')"
   ]
  },
  {
   "cell_type": "code",
   "execution_count": null,
   "id": "c488d9ae-a876-4242-a183-1765792d511f",
   "metadata": {},
   "outputs": [],
   "source": []
  }
 ],
 "metadata": {
  "kernelspec": {
   "display_name": "pytorch",
   "language": "python",
   "name": "pytorch"
  },
  "language_info": {
   "codemirror_mode": {
    "name": "ipython",
    "version": 3
   },
   "file_extension": ".py",
   "mimetype": "text/x-python",
   "name": "python",
   "nbconvert_exporter": "python",
   "pygments_lexer": "ipython3",
   "version": "3.7.9"
  }
 },
 "nbformat": 4,
 "nbformat_minor": 5
}
