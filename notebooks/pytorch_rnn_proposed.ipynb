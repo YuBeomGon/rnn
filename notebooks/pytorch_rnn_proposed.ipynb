{
 "cells": [
  {
   "cell_type": "code",
   "execution_count": 1,
   "id": "b8816901-b324-4e61-9d44-3f832210d8e0",
   "metadata": {},
   "outputs": [],
   "source": [
    "# https://pytorch.org/tutorials/intermediate/char_rnn_classification_tutorial.html\n",
    "# https://jaketae.github.io/study/pytorch-rnn/"
   ]
  },
  {
   "cell_type": "code",
   "execution_count": 2,
   "id": "6b1ea438-cab6-49de-ac4b-b0e223320df1",
   "metadata": {},
   "outputs": [
    {
     "name": "stdout",
     "output_type": "stream",
     "text": [
      "cpu\n"
     ]
    }
   ],
   "source": [
    "import os\n",
    "import random\n",
    "from string import ascii_letters\n",
    "\n",
    "import torch\n",
    "from torch import nn\n",
    "import torch.nn.functional as F\n",
    "from unidecode import unidecode\n",
    "import sys\n",
    "sys.path.append('../')\n",
    "\n",
    "import matplotlib.pyplot as plt\n",
    "%matplotlib inline\n",
    "\n",
    "from dataset import get_tensor, get_train_test_data\n",
    "from model import GRUModel\n",
    "from train import train, evaluate, train_rnn, evaluate_rnn\n",
    "from config import *\n",
    "\n",
    "_ = torch.manual_seed(42)\n",
    "#device = torch.device(\"cuda\" if torch.cuda.is_available() else \"cpu\")\n",
    "device = torch.device('cpu')\n",
    "print(device)"
   ]
  },
  {
   "cell_type": "code",
   "execution_count": 3,
   "id": "2e4f2b8f-a87a-40e4-9828-99e3c2bfdb5a",
   "metadata": {},
   "outputs": [
    {
     "name": "stdout",
     "output_type": "stream",
     "text": [
      "num_lang, 18 num_letters 59\n",
      "Train: 18063\n",
      "Test: 2007\n"
     ]
    }
   ],
   "source": [
    "data_dir = \"../data/names\"\n",
    "tensor_names, target_langs, num_langs, num_letters = get_tensor(data_dir)\n",
    "train_dataset, test_dataset = get_train_test_data(tensor_names, target_langs)"
   ]
  },
  {
   "cell_type": "code",
   "execution_count": 4,
   "id": "ee3220ff-f8c3-4906-843b-a616c7428b82",
   "metadata": {},
   "outputs": [
    {
     "name": "stdout",
     "output_type": "stream",
     "text": [
      "torch.Size([10, 1, 59])\n"
     ]
    }
   ],
   "source": [
    "names, labels = next(iter(train_dataset))\n",
    "print(names.shape)"
   ]
  },
  {
   "cell_type": "code",
   "execution_count": 5,
   "id": "890e3b6e-6a5a-4521-b5f5-b0f16abf42c6",
   "metadata": {},
   "outputs": [],
   "source": [
    "class RNN(nn.Module):\n",
    "    def __init__(self, input_size, hidden_size, output_size):\n",
    "        super(RNN, self).__init__()\n",
    "        self.hidden_size = hidden_size\n",
    "        self.hidden_size2 = hidden_size//2\n",
    "        #self.input2hidden = nn.Linear(input_size, hidden_size)\n",
    "        self.hidden2hidden1 = nn.Linear(input_size + hidden_size, hidden_size)\n",
    "        self.hidden2hidden2 = nn.Linear(input_size + self.hidden_size2, self.hidden_size2)\n",
    "        self.hidden2output = nn.Linear(hidden_size+self.hidden_size2, output_size)\n",
    "        \n",
    "        torch.nn.init.normal(self.hidden2hidden1.weight, mean=0., std=0.05)\n",
    "        torch.nn.init.normal(self.hidden2hidden2.weight, mean=0., std=0.05)\n",
    "        torch.nn.init.normal(self.hidden2output.weight, mean=0., std=0.05)\n",
    "        \n",
    "        torch.nn.init.zeros_(self.hidden2hidden1.bias)\n",
    "        torch.nn.init.zeros_(self.hidden2hidden2.bias)\n",
    "        torch.nn.init.zeros_(self.hidden2output.bias)             \n",
    "    \n",
    "    def forward(self, x, hidden_state1, hidden_state2):\n",
    "        combined1 = torch.cat((x, hidden_state1), 1)\n",
    "        combined2 = torch.cat((x, hidden_state2), 1)\n",
    "        hidden1 = torch.sigmoid(self.hidden2hidden1(combined1))\n",
    "        hidden2 = torch.sigmoid(self.hidden2hidden2(combined2))\n",
    "        output = (self.hidden2output(torch.cat((hidden1, hidden2), 1)))\n",
    "        return output, hidden1, hidden2\n",
    "    \n",
    "    def init_hidden(self):\n",
    "        # return nn.init.kaiming_uniform_(torch.empty(1, self.hidden_size))\n",
    "        return torch.zeros(1, self.hidden_size), torch.zeros(1, self.hidden_size2)"
   ]
  },
  {
   "cell_type": "code",
   "execution_count": 6,
   "id": "ff4eaf14-58b6-443b-9786-bf7072415045",
   "metadata": {},
   "outputs": [
    {
     "name": "stderr",
     "output_type": "stream",
     "text": [
      "/home/beomgon/.local/lib/python3.7/site-packages/ipykernel_launcher.py:11: UserWarning: nn.init.normal is now deprecated in favor of nn.init.normal_.\n",
      "  # This is added back by InteractiveShellApp.init_path()\n",
      "/home/beomgon/.local/lib/python3.7/site-packages/ipykernel_launcher.py:12: UserWarning: nn.init.normal is now deprecated in favor of nn.init.normal_.\n",
      "  if sys.path[0] == '':\n",
      "/home/beomgon/.local/lib/python3.7/site-packages/ipykernel_launcher.py:13: UserWarning: nn.init.normal is now deprecated in favor of nn.init.normal_.\n",
      "  del sys.path[0]\n"
     ]
    }
   ],
   "source": [
    "model = RNN(num_letters, hidden_size, num_langs).to(device)\n",
    "optimizer = torch.optim.Adam(model.parameters(), lr=learning_rate)\n",
    "criterion = nn.CrossEntropyLoss().to(device)"
   ]
  },
  {
   "cell_type": "code",
   "execution_count": 7,
   "id": "67a1142e-4fb5-4b0b-87d6-4e31d23a2239",
   "metadata": {},
   "outputs": [],
   "source": [
    "def evaluate_rnn(model, device, test_dataset) :    \n",
    "    \n",
    "    num_correct = 0\n",
    "    num_samples = len(test_dataset)\n",
    "\n",
    "    model.eval()\n",
    "\n",
    "    with torch.no_grad():\n",
    "        for name, label in test_dataset:\n",
    "            name = name.to(device)\n",
    "            label = label.to(device)            \n",
    "            hidden_state1, hidden_state2 = model.init_hidden()\n",
    "            hidden_state1 = hidden_state1.to(device)     \n",
    "            hidden_state2 = hidden_state2.to(device)   \n",
    "            \n",
    "            hidden_list = []\n",
    "            hidden_list.append(hidden_state2)            \n",
    "\n",
    "            for char in name:\n",
    "                output, hidden_state1, hidden_state2 = model(char, hidden_state1, hidden_state2)\n",
    "                hidden_list.append(hidden_state2)\n",
    "                hidden_state2 = hidden_list.pop(0)                \n",
    "\n",
    "            _, pred = torch.max(output, dim=1)\n",
    "            num_correct += bool(pred == label)\n",
    "            \n",
    "    model.train()\n",
    "    print(f\"Accuracy: {num_correct / num_samples * 100:.4f}%\")   \n",
    "    return (num_correct / num_samples * 100)"
   ]
  },
  {
   "cell_type": "code",
   "execution_count": 8,
   "id": "28bc0d8f-c8e1-48ae-aaac-4490089e4ba2",
   "metadata": {},
   "outputs": [
    {
     "name": "stdout",
     "output_type": "stream",
     "text": [
      "Epoch [1/4], Step [3000/18063], Loss: 1.8460\n",
      "Accuracy: 49.9253%\n",
      "Epoch [1/4], Step [6000/18063], Loss: 1.4348\n",
      "Accuracy: 57.6482%\n",
      "Epoch [1/4], Step [9000/18063], Loss: 1.3808\n",
      "Accuracy: 63.4280%\n",
      "Epoch [1/4], Step [12000/18063], Loss: 1.2841\n",
      "Accuracy: 65.5207%\n",
      "Epoch [1/4], Step [15000/18063], Loss: 1.2306\n",
      "Accuracy: 66.9656%\n",
      "Epoch [1/4], Step [18000/18063], Loss: 1.2095\n",
      "Accuracy: 68.4106%\n",
      "Epoch [2/4], Step [3000/18063], Loss: 1.1679\n",
      "Accuracy: 69.2576%\n",
      "Epoch [2/4], Step [6000/18063], Loss: 1.1311\n",
      "Accuracy: 69.0583%\n",
      "Epoch [2/4], Step [9000/18063], Loss: 1.0890\n",
      "Accuracy: 70.3039%\n",
      "Epoch [2/4], Step [12000/18063], Loss: 1.0719\n",
      "Accuracy: 71.1510%\n",
      "Epoch [2/4], Step [15000/18063], Loss: 1.0913\n",
      "Accuracy: 72.2970%\n",
      "Epoch [2/4], Step [18000/18063], Loss: 1.0309\n",
      "Accuracy: 72.7952%\n",
      "Epoch [3/4], Step [3000/18063], Loss: 1.0832\n",
      "Accuracy: 74.0409%\n",
      "Epoch [3/4], Step [6000/18063], Loss: 1.0324\n",
      "Accuracy: 74.1903%\n",
      "Epoch [3/4], Step [9000/18063], Loss: 0.9732\n",
      "Accuracy: 72.9447%\n",
      "Epoch [3/4], Step [12000/18063], Loss: 1.0084\n",
      "Accuracy: 72.9945%\n",
      "Epoch [3/4], Step [15000/18063], Loss: 0.9000\n",
      "Accuracy: 73.0942%\n",
      "Epoch [3/4], Step [18000/18063], Loss: 0.9031\n",
      "Accuracy: 74.5391%\n",
      "Epoch [4/4], Step [3000/18063], Loss: 0.9991\n",
      "Accuracy: 75.2865%\n",
      "Epoch [4/4], Step [6000/18063], Loss: 0.9012\n",
      "Accuracy: 74.3896%\n",
      "Epoch [4/4], Step [9000/18063], Loss: 0.9208\n",
      "Accuracy: 76.3328%\n",
      "Epoch [4/4], Step [12000/18063], Loss: 0.8730\n",
      "Accuracy: 75.9841%\n",
      "Epoch [4/4], Step [15000/18063], Loss: 0.8435\n",
      "Accuracy: 75.4858%\n",
      "Epoch [4/4], Step [18000/18063], Loss: 0.8630\n",
      "Accuracy: 76.6318%\n"
     ]
    }
   ],
   "source": [
    "model.train()\n",
    "acc_list = []\n",
    "\n",
    "for epoch in range(num_epochs):\n",
    "    random.shuffle(train_dataset)\n",
    "    losses = []\n",
    "    for i, (name, label) in enumerate(train_dataset):\n",
    "        name = name.to(device)\n",
    "        label = label.to(device)        \n",
    "        hidden_state1, hidden_state2 = model.init_hidden()\n",
    "        hidden_state1 = hidden_state1.to(device)     \n",
    "        hidden_state2 = hidden_state2.to(device)   \n",
    "        \n",
    "        hidden_list = []\n",
    "        hidden_list.append(hidden_state2)\n",
    "\n",
    "        for char in name:\n",
    "            output, hidden_state1, hidden_state2 = model(char, hidden_state1, hidden_state2)\n",
    "            hidden_list.append(hidden_state2)\n",
    "            hidden_state2 = hidden_list.pop(0)      \n",
    "        loss = criterion(output, label)\n",
    "        losses.append(loss.item())\n",
    "\n",
    "        optimizer.zero_grad()\n",
    "        loss.backward()\n",
    "        nn.utils.clip_grad_norm_(model.parameters(), 1)\n",
    "        optimizer.step()\n",
    "\n",
    "        if (i + 1) % print_interval == 0:\n",
    "            print(\n",
    "                f\"Epoch [{epoch + 1}/{num_epochs}], \"\n",
    "                f\"Step [{i + 1}/{len(train_dataset)}], \"\n",
    "                f\"Loss: {sum(losses)/print_interval:.4f}\"\n",
    "            )\n",
    "            acc = evaluate_rnn(model, device, test_dataset)    \n",
    "            acc_list.append(acc)   \n",
    "            losses = []\n",
    "        "
   ]
  },
  {
   "cell_type": "code",
   "execution_count": 9,
   "id": "254a1f24-aeaa-4d51-a7b4-227a17801338",
   "metadata": {},
   "outputs": [
    {
     "name": "stdout",
     "output_type": "stream",
     "text": [
      "Accuracy: 76.6318%\n"
     ]
    },
    {
     "data": {
      "text/plain": [
       "76.63178873941206"
      ]
     },
     "execution_count": 9,
     "metadata": {},
     "output_type": "execute_result"
    }
   ],
   "source": [
    "evaluate_rnn(model, device, test_dataset)       "
   ]
  },
  {
   "cell_type": "code",
   "execution_count": 10,
   "id": "e68109af-8f19-4129-afcd-c496e3dfcacc",
   "metadata": {},
   "outputs": [
    {
     "name": "stderr",
     "output_type": "stream",
     "text": [
      "No artists with labels found to put in legend.  Note that artists whose label start with an underscore are ignored when legend() is called with no argument.\n"
     ]
    },
    {
     "data": {
      "text/plain": [
       "[<matplotlib.lines.Line2D at 0x7f2f284e4f50>]"
      ]
     },
     "execution_count": 10,
     "metadata": {},
     "output_type": "execute_result"
    },
    {
     "data": {
      "image/png": "[encoded data removed]",
      "text/plain": [
       "<Figure size 720x360 with 1 Axes>"
      ]
     },
     "metadata": {
      "needs_background": "light"
     },
     "output_type": "display_data"
    }
   ],
   "source": [
    "plt.figure(figsize=(10, 5))\n",
    "plt.title('RNN accuracy')\n",
    "plt.xlabel('epoch/6')\n",
    "plt.ylabel('acc')\n",
    "plt.legend(loc='best')\n",
    "plt.plot(acc_list, 'k--')"
   ]
  },
  {
   "cell_type": "code",
   "execution_count": null,
   "id": "99872585-7b69-4ae8-bb83-5b4dfb3007e9",
   "metadata": {},
   "outputs": [],
   "source": []
  }
 ],
 "metadata": {
  "kernelspec": {
   "display_name": "pytorch",
   "language": "python",
   "name": "pytorch"
  },
  "language_info": {
   "codemirror_mode": {
    "name": "ipython",
    "version": 3
   },
   "file_extension": ".py",
   "mimetype": "text/x-python",
   "name": "python",
   "nbconvert_exporter": "python",
   "pygments_lexer": "ipython3",
   "version": "3.7.9"
  }
 },
 "nbformat": 4,
 "nbformat_minor": 5
}
